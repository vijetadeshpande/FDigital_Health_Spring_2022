{
 "cells": [
  {
   "cell_type": "code",
   "execution_count": 1,
   "id": "e6a94238-b1cb-4f69-8527-7d7215470b19",
   "metadata": {},
   "outputs": [],
   "source": [
    "from UMedLS import UMedLS\n",
    "import json\n",
    "import os\n",
    "import time\n",
    "\n",
    "# initialize an instance of the class\n",
    "umls_ = UMedLS()"
   ]
  },
  {
   "cell_type": "code",
   "execution_count": 3,
   "id": "70d695f2-641b-4aba-b3f2-dafd7818e85b",
   "metadata": {},
   "outputs": [
    {
     "name": "stdout",
     "output_type": "stream",
     "text": [
      "Cycle from C2937260:\n",
      "C2937260 C4708157 C2939428 C2937260 C4708157 C2939428 C2937260\n",
      "Time required to find cycle:\n",
      "1.261988 secs\n",
      "\n",
      "\n",
      "Cycle from C0003850:\n",
      "C0003850 C0004153 C0003850 C0004153 C0003850\n",
      "Time required to find cycle:\n",
      "0.409086 secs\n",
      "\n",
      "\n",
      "Cycle from C2937260:\n",
      "C2937260 C4708157 C2939428 C2937260 C4708157 C2939428 C2937260\n",
      "Time required to find cycle:\n",
      "0.516704 secs\n",
      "\n",
      "\n",
      "Cycle from C0005586:\n",
      "C0005586 C0005586 C0005586 C0005586 C0005586\n",
      "Time required to find cycle:\n",
      "26.301349 secs\n",
      "\n",
      "\n",
      "Cycle from C0029456:\n",
      "C0029456 C0029456 C0029456 C0029456 C0029456\n",
      "Time required to find cycle:\n",
      "11.739536 secs\n",
      "\n",
      "\n"
     ]
    }
   ],
   "source": [
    "# find cycles\n",
    "starting_nodes = ['C2937260', 'C0003850', 'C2937260', 'C0005586', 'C0029456']\n",
    "paths_ = {}\n",
    "for starting_node in starting_nodes:\n",
    "    t = time.time()\n",
    "    paths_[starting_node] = {'cycle': umls_.dfs(starting_node, starting_node, 0),\n",
    "                             'search time': time.time() - t}\n",
    "    print('Cycle from %s:'%(starting_node))\n",
    "    print(paths_[starting_node]['cycle'])\n",
    "    print('Time required to find cycle:')\n",
    "    print('%f secs'%(paths_[starting_node]['search time']))\n",
    "    print('\\n')"
   ]
  },
  {
   "cell_type": "code",
   "execution_count": 5,
   "id": "75732c3a-cba2-41c3-a24a-f5b95f76f5c1",
   "metadata": {},
   "outputs": [],
   "source": [
    "# write text file\n",
    "with open('OUTPUT.txt', 'w') as f:\n",
    "    for cui in paths_:\n",
    "        f.write(paths_[cui]['cycle'])\n",
    "        f.write('\\n')"
   ]
  },
  {
   "cell_type": "code",
   "execution_count": null,
   "id": "8542241a-897c-4a8e-af1a-a70faef03b7c",
   "metadata": {},
   "outputs": [],
   "source": []
  }
 ],
 "metadata": {
  "kernelspec": {
   "display_name": "Python 3 (ipykernel)",
   "language": "python",
   "name": "python3"
  },
  "language_info": {
   "codemirror_mode": {
    "name": "ipython",
    "version": 3
   },
   "file_extension": ".py",
   "mimetype": "text/x-python",
   "name": "python",
   "nbconvert_exporter": "python",
   "pygments_lexer": "ipython3",
   "version": "3.9.7"
  }
 },
 "nbformat": 4,
 "nbformat_minor": 5
}
