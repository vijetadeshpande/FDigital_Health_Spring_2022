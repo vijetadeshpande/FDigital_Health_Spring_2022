{
 "cells": [
  {
   "cell_type": "code",
   "execution_count": 1,
   "id": "e6a94238-b1cb-4f69-8527-7d7215470b19",
   "metadata": {},
   "outputs": [],
   "source": [
    "from UMedLS import UMedLS\n",
    "import json\n",
    "import os\n",
    "import time\n",
    "\n",
    "# initialize an instance of the class\n",
    "umls_ = UMedLS()"
   ]
  },
  {
   "cell_type": "code",
   "execution_count": null,
   "id": "70d695f2-641b-4aba-b3f2-dafd7818e85b",
   "metadata": {},
   "outputs": [],
   "source": [
    "# find cycles\n",
    "starting_nodes = ['C0018787']#, 'C0015967', 'C0003850', 'C0029456', 'C0038013', 'C0019158', 'C0030054']\n",
    "paths_ = {}\n",
    "for starting_node in starting_nodes:\n",
    "    t = time.time()\n",
    "    paths_[starting_node] = {'cycle': umls_.dfs(starting_node, starting_node, 0),\n",
    "                             'search time': time.time() - t}\n",
    "    print('Cycle from %s:'%(starting_node))\n",
    "    print(paths_[starting_node]['cycle'])\n",
    "    print('Time required to find cycle:')\n",
    "    print('%f secs'%(paths_[starting_node]['search time']))\n",
    "    print('\\n')\n",
    "    \n",
    "    "
   ]
  },
  {
   "cell_type": "code",
   "execution_count": null,
   "id": "75732c3a-cba2-41c3-a24a-f5b95f76f5c1",
   "metadata": {},
   "outputs": [],
   "source": []
  }
 ],
 "metadata": {
  "kernelspec": {
   "display_name": "Python 3 (ipykernel)",
   "language": "python",
   "name": "python3"
  },
  "language_info": {
   "codemirror_mode": {
    "name": "ipython",
    "version": 3
   },
   "file_extension": ".py",
   "mimetype": "text/x-python",
   "name": "python",
   "nbconvert_exporter": "python",
   "pygments_lexer": "ipython3",
   "version": "3.9.7"
  }
 },
 "nbformat": 4,
 "nbformat_minor": 5
}
