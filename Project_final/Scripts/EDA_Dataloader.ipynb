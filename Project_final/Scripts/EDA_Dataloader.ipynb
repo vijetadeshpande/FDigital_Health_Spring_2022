{
 "cells": [
  {
   "cell_type": "code",
   "execution_count": 1,
   "id": "9ea1dd91-707b-4ba4-921a-046c1f20efe7",
   "metadata": {},
   "outputs": [],
   "source": [
    "import os\n",
    "import json\n",
    "from copy import deepcopy\n",
    "import torch\n",
    "import transformers\n",
    "import datasets\n",
    "\n",
    "import matplotlib.pyplot as plt\n",
    "import numpy as np\n",
    "from tqdm import tqdm"
   ]
  },
  {
   "cell_type": "code",
   "execution_count": 2,
   "id": "e26b7a8f-8a31-41f1-9ea7-d12b4fbf14ae",
   "metadata": {},
   "outputs": [
    {
     "name": "stderr",
     "output_type": "stream",
     "text": [
      "Reusing dataset ncbi_disease (/Users/vijetadeshpande/.cache/huggingface/datasets/ncbi_disease/ncbi_disease/1.0.0/92314c7992b0b8a5ea2ad101be33f365b684a2cc011e0ffa29c691e6d32b2d03)\n"
     ]
    },
    {
     "data": {
      "application/vnd.jupyter.widget-view+json": {
       "model_id": "9a7039d350ea46aeb6e3374fe0c4cd8c",
       "version_major": 2,
       "version_minor": 0
      },
      "text/plain": [
       "  0%|          | 0/3 [00:00<?, ?it/s]"
      ]
     },
     "metadata": {},
     "output_type": "display_data"
    }
   ],
   "source": [
    "# import a reference dataset, we can match properties of our dataset with this reference set\n",
    "data_ref = datasets.load_dataset('ncbi_disease')"
   ]
  },
  {
   "cell_type": "code",
   "execution_count": 3,
   "id": "ee23046a-3e77-49a5-9360-93d21a44d3c2",
   "metadata": {},
   "outputs": [
    {
     "data": {
      "text/plain": [
       "Dataset({\n",
       "    features: ['id', 'tokens', 'ner_tags'],\n",
       "    num_rows: 5433\n",
       "})"
      ]
     },
     "execution_count": 3,
     "metadata": {},
     "output_type": "execute_result"
    }
   ],
   "source": [
    "# explore reference data\n",
    "data_ref['train']"
   ]
  },
  {
   "cell_type": "code",
   "execution_count": 4,
   "id": "68e0cfbc-6439-4406-963a-8af7b241571a",
   "metadata": {},
   "outputs": [
    {
     "data": {
      "text/plain": [
       "{'id': '0',\n",
       " 'tokens': ['Identification',\n",
       "  'of',\n",
       "  'APC2',\n",
       "  ',',\n",
       "  'a',\n",
       "  'homologue',\n",
       "  'of',\n",
       "  'the',\n",
       "  'adenomatous',\n",
       "  'polyposis',\n",
       "  'coli',\n",
       "  'tumour',\n",
       "  'suppressor',\n",
       "  '.'],\n",
       " 'ner_tags': [0, 0, 0, 0, 0, 0, 0, 0, 1, 2, 2, 2, 0, 0]}"
      ]
     },
     "execution_count": 4,
     "metadata": {},
     "output_type": "execute_result"
    }
   ],
   "source": [
    "data_ref['train'][0]"
   ]
  },
  {
   "cell_type": "code",
   "execution_count": 5,
   "id": "b501fc36-88d9-48a6-bc70-3420a9635a9e",
   "metadata": {},
   "outputs": [],
   "source": [
    "# we want name of our X to be 'tokens' and Y as 'ner_tags'\n",
    "# lets import our data\n",
    "filepath = r'/Users/vijetadeshpande/Downloads/UMass Lowell - Courses/Spring 2022/Foundations in Digital Health/FDigital_Health_Spring_2022/Project_final/Data/preprocessed_data_95%.json'\n",
    "with open(filepath, 'r') as f:\n",
    "    data = json.load(f)\n"
   ]
  },
  {
   "cell_type": "code",
   "execution_count": 6,
   "id": "0de23981-2229-4fca-b4e8-b569ecd1379c",
   "metadata": {},
   "outputs": [],
   "source": [
    "# structure of our dataset\n",
    "# data = {'id': dict}\n",
    "# data[id] = {'sentences': list}\n",
    "# data[id][index] = {'words': [], labels_sbdh: [], labels_umls: []}\n",
    "\n",
    "# so, every data[id][index] has the proper shape that we want. Let's collect all in one dict\n",
    "\n",
    "data_ = {'train': []}\n",
    "for i in data:\n",
    "    for j in data[i]:\n",
    "        if j == 'sequences':\n",
    "            for instance in data[i][j]:\n",
    "                instance['id'] = i\n",
    "                data_['train'].append(deepcopy(instance))"
   ]
  },
  {
   "cell_type": "code",
   "execution_count": 7,
   "id": "1e403278-7e70-481e-8100-c3faa63a8b3c",
   "metadata": {},
   "outputs": [
    {
     "data": {
      "text/plain": [
       "{'words': ['He', 'tolerated', 'the', 'surgery', 'well.'],\n",
       " 'labels_sbdh': ['O', 'O', 'O', 'O', 'O'],\n",
       " 'labels_umls': ['O', 'O', 'O', 'O', 'O'],\n",
       " 'id': '10065'}"
      ]
     },
     "execution_count": 7,
     "metadata": {},
     "output_type": "execute_result"
    }
   ],
   "source": [
    "data_['train'][100]"
   ]
  },
  {
   "cell_type": "code",
   "execution_count": 8,
   "id": "d3f6d373-e41f-4b6a-a70e-1541c2e6732c",
   "metadata": {},
   "outputs": [
    {
     "name": "stdout",
     "output_type": "stream",
     "text": [
      "13006\n",
      "856870\n",
      "True\n"
     ]
    }
   ],
   "source": [
    "# eda\n",
    "sample_size = len(data_['train'])\n",
    "sample_size_pos = 0 # sentences having sbdh entities\n",
    "sample_size_neg = 0 # sentences not having any sbdh entities\n",
    "sample_pos = []\n",
    "sample_neg = []\n",
    "\n",
    "for i, instance in enumerate(data_['train']):\n",
    "    sample_instance = instance\n",
    "    y = instance['labels_sbdh'] \n",
    "    if y == ['O'] * len(y):\n",
    "        sample_size_neg += 1\n",
    "        sample_neg.append((i, instance['id']))\n",
    "    else:\n",
    "        sample_size_pos += 1\n",
    "        sample_pos.append((i, instance['id']))\n",
    "\n",
    "assert len(sample_pos) == sample_size_pos\n",
    "assert len(sample_neg) == sample_size_neg\n",
    "print(sample_size_pos)\n",
    "print(sample_size_neg)\n",
    "print((sample_size_pos + sample_size_neg) == sample_size)"
   ]
  },
  {
   "cell_type": "markdown",
   "id": "8122bcd2-6a54-491a-8b75-1b12707bb03d",
   "metadata": {},
   "source": [
    "# what are the things we will need to do?\n",
    "\n",
    "1. Check length distribution for the positive and negative sentences\n",
    "    1.1. might need to remove too short sentences\n",
    "2. As Avijit mentioned, it'll be helpful to have some context for the sentences\n",
    "    2.1. maybe 2 sentences before + tagged sentence + 2 senteces after, could be helpful\n",
    "    "
   ]
  },
  {
   "cell_type": "code",
   "execution_count": 9,
   "id": "f7aa22c8-fdb4-468e-a3e6-ee697f206a5f",
   "metadata": {},
   "outputs": [
    {
     "name": "stdout",
     "output_type": "stream",
     "text": [
      "\n",
      "10th, 25th, 50th, 75th, 90th percentiles for positive examples:\n",
      "[ 5.  7. 12. 18. 26.]\n",
      "Mean value of length for positive sentences:\n",
      "13.913578348454559\n",
      "\n",
      "10th, 25th, 50th, 75th, 90th percentiles for neg examples:\n",
      "[ 3.  5. 10. 17. 27.]\n",
      "Mean value of length for negative sentences:\n",
      "13.52480656342269\n"
     ]
    },
    {
     "data": {
      "text/plain": [
       "(array([8.5513e+05, 1.4870e+03, 1.7300e+02, 4.5000e+01, 2.3000e+01,\n",
       "        4.0000e+00, 3.0000e+00, 2.0000e+00, 2.0000e+00, 1.0000e+00]),\n",
       " array([1.0000e+00, 1.3310e+02, 2.6520e+02, 3.9730e+02, 5.2940e+02,\n",
       "        6.6150e+02, 7.9360e+02, 9.2570e+02, 1.0578e+03, 1.1899e+03,\n",
       "        1.3220e+03]),\n",
       " <BarContainer object of 10 artists>)"
      ]
     },
     "execution_count": 9,
     "metadata": {},
     "output_type": "execute_result"
    },
    {
     "data": {
      "image/png": "[encoded data removed]",
      "text/plain": [
       "<Figure size 432x288 with 1 Axes>"
      ]
     },
     "metadata": {
      "needs_background": "light"
     },
     "output_type": "display_data"
    },
    {
     "data": {
      "image/png": "[encoded data removed]",
      "text/plain": [
       "<Figure size 432x288 with 1 Axes>"
      ]
     },
     "metadata": {
      "needs_background": "light"
     },
     "output_type": "display_data"
    }
   ],
   "source": [
    "# check length distribution\n",
    "length_pos = []\n",
    "length_neg = []\n",
    "\n",
    "for i, id_ in sample_pos:\n",
    "    instance = data_['train'][i]\n",
    "    if instance['id'] == id_:\n",
    "        length_pos.append(len(instance['words']))\n",
    "\n",
    "for i, id_ in sample_neg:\n",
    "    instance = data_['train'][i]\n",
    "    if instance['id'] == id_:\n",
    "        length_neg.append(len(instance['words']))\n",
    "\n",
    "\n",
    "\n",
    "\n",
    "print('\\n10th, 25th, 50th, 75th, 90th percentiles for positive examples:')\n",
    "print(np.percentile(length_pos, (10, 25, 50, 75, 90)))\n",
    "print('Mean value of length for positive sentences:')\n",
    "print(np.mean(length_pos))\n",
    "\n",
    "print('\\n10th, 25th, 50th, 75th, 90th percentiles for neg examples:')\n",
    "print(np.percentile(length_neg, (10, 25, 50, 75, 90)))\n",
    "print('Mean value of length for negative sentences:')\n",
    "print(np.mean(length_neg))\n",
    "\n",
    "# distribution of sequence length does not differ much.\n",
    "# This is good. So, based on input sequence length, \n",
    "# model won't be able to tell whether the input sequnce is a positive sentence or negative sentence\n",
    "# We can set the maximum word-length of all sequence to 100 (maybe)\n",
    "\n",
    "\n",
    "#\n",
    "plt.figure()\n",
    "plt.hist(length_pos, bins=10)\n",
    "\n",
    "plt.figure()\n",
    "plt.hist(length_neg, bins=10)\n"
   ]
  },
  {
   "cell_type": "code",
   "execution_count": 10,
   "id": "3cbafe33-e90f-4370-b1b9-e89c32840395",
   "metadata": {},
   "outputs": [
    {
     "name": "stdout",
     "output_type": "stream",
     "text": [
      "{'O': 0, 'behavior_alcohol': 1, 'behavior_drug': 2, 'behavior_tobacco': 3, 'sdoh_community': 4, 'sdoh_economics': 5, 'sdoh_education': 6, 'sdoh_environment': 7}\n"
     ]
    }
   ],
   "source": [
    "# check sbdh label distribution\n",
    "unique_cat = set()\n",
    "for instance in data_['train']:\n",
    "    unique_cat = unique_cat.union(set(instance['labels_sbdh']))\n",
    "unique_cat = sorted(list(unique_cat))\n",
    "\n",
    "label_to_idx = {}\n",
    "for idx, label in enumerate(unique_cat):\n",
    "    label_to_idx[label] = idx\n",
    "print(label_to_idx)\n"
   ]
  },
  {
   "cell_type": "code",
   "execution_count": 11,
   "id": "9b8ae8ff-f885-44f2-b4d1-4a62d5845327",
   "metadata": {},
   "outputs": [
    {
     "data": {
      "text/plain": [
       "([0, 1, 2, 3, 4, 5, 6, 7],\n",
       " [Text(0, 0, ''),\n",
       "  Text(0, 0, ''),\n",
       "  Text(0, 0, ''),\n",
       "  Text(0, 0, ''),\n",
       "  Text(0, 0, ''),\n",
       "  Text(0, 0, ''),\n",
       "  Text(0, 0, ''),\n",
       "  Text(0, 0, '')])"
      ]
     },
     "execution_count": 11,
     "metadata": {},
     "output_type": "execute_result"
    },
    {
     "data": {
      "image/png": "[encoded data removed]",
      "text/plain": [
       "<Figure size 432x288 with 1 Axes>"
      ]
     },
     "metadata": {
      "needs_background": "light"
     },
     "output_type": "display_data"
    }
   ],
   "source": [
    "#\n",
    "sbdh_dist = {} # within positive sentences\n",
    "for label in label_to_idx:\n",
    "    sbdh_dist[label] = 0\n",
    "\n",
    "for instance in data_['train']:\n",
    "    y_unique = set(instance['labels_sbdh'])\n",
    "    for y in y_unique:\n",
    "        if not y == 'O':\n",
    "            sbdh_dist[y] += 1\n",
    "\n",
    "#\n",
    "plt.figure()\n",
    "plt.bar(list(sbdh_dist.keys()), list(sbdh_dist.values()))\n",
    "plt.xticks(rotation = 90)\n",
    "\n",
    "# therefore, we might need to over sample behavior_drug, sdoh_economics, sdoh_education"
   ]
  },
  {
   "cell_type": "code",
   "execution_count": 12,
   "id": "b9995fb8-108a-4da4-ad62-1703f35efa29",
   "metadata": {},
   "outputs": [
    {
     "data": {
      "text/plain": [
       "(array([2.181372e+06, 3.355766e+06, 2.078344e+06, 1.894550e+06,\n",
       "        1.557041e+06, 3.665350e+05, 2.127100e+05, 8.056900e+04,\n",
       "        2.341200e+04, 1.046800e+04, 3.381000e+03, 3.222000e+03,\n",
       "        9.340000e+02, 7.650000e+02, 9.000000e+01, 8.400000e+01,\n",
       "        4.200000e+01, 5.200000e+01, 2.000000e+01, 2.500000e+01,\n",
       "        2.400000e+01, 2.000000e+01, 2.500000e+01, 9.000000e+00,\n",
       "        1.000000e+01, 3.780000e+02, 2.200000e+01, 6.000000e+00,\n",
       "        8.100000e+01, 0.000000e+00, 0.000000e+00, 0.000000e+00,\n",
       "        0.000000e+00, 0.000000e+00, 0.000000e+00, 0.000000e+00,\n",
       "        0.000000e+00, 0.000000e+00, 0.000000e+00, 0.000000e+00,\n",
       "        0.000000e+00, 0.000000e+00, 0.000000e+00, 0.000000e+00,\n",
       "        0.000000e+00, 0.000000e+00, 0.000000e+00, 0.000000e+00,\n",
       "        0.000000e+00, 0.000000e+00, 0.000000e+00, 0.000000e+00,\n",
       "        0.000000e+00, 0.000000e+00, 0.000000e+00, 0.000000e+00,\n",
       "        0.000000e+00, 0.000000e+00, 0.000000e+00, 0.000000e+00,\n",
       "        0.000000e+00, 0.000000e+00, 0.000000e+00, 0.000000e+00,\n",
       "        0.000000e+00, 0.000000e+00, 0.000000e+00, 0.000000e+00,\n",
       "        0.000000e+00, 0.000000e+00, 0.000000e+00, 0.000000e+00,\n",
       "        0.000000e+00, 0.000000e+00, 0.000000e+00, 0.000000e+00,\n",
       "        0.000000e+00, 0.000000e+00, 0.000000e+00, 0.000000e+00,\n",
       "        0.000000e+00, 0.000000e+00, 0.000000e+00, 0.000000e+00,\n",
       "        0.000000e+00, 0.000000e+00, 0.000000e+00, 0.000000e+00,\n",
       "        0.000000e+00, 0.000000e+00, 0.000000e+00, 0.000000e+00,\n",
       "        0.000000e+00, 0.000000e+00, 0.000000e+00, 0.000000e+00,\n",
       "        0.000000e+00, 0.000000e+00, 0.000000e+00, 0.000000e+00,\n",
       "        0.000000e+00, 0.000000e+00, 0.000000e+00, 0.000000e+00,\n",
       "        0.000000e+00, 0.000000e+00, 0.000000e+00, 0.000000e+00,\n",
       "        0.000000e+00, 0.000000e+00, 0.000000e+00, 0.000000e+00,\n",
       "        0.000000e+00, 0.000000e+00, 0.000000e+00, 0.000000e+00,\n",
       "        0.000000e+00, 0.000000e+00, 0.000000e+00, 0.000000e+00,\n",
       "        0.000000e+00, 0.000000e+00, 0.000000e+00, 0.000000e+00,\n",
       "        0.000000e+00, 0.000000e+00, 0.000000e+00, 0.000000e+00,\n",
       "        0.000000e+00, 0.000000e+00, 0.000000e+00, 0.000000e+00,\n",
       "        0.000000e+00, 0.000000e+00, 0.000000e+00, 0.000000e+00,\n",
       "        0.000000e+00, 0.000000e+00, 0.000000e+00, 0.000000e+00,\n",
       "        0.000000e+00, 0.000000e+00, 0.000000e+00, 0.000000e+00,\n",
       "        0.000000e+00, 0.000000e+00, 0.000000e+00, 0.000000e+00,\n",
       "        0.000000e+00, 0.000000e+00, 0.000000e+00, 0.000000e+00,\n",
       "        0.000000e+00, 0.000000e+00, 0.000000e+00, 0.000000e+00,\n",
       "        0.000000e+00, 0.000000e+00, 0.000000e+00, 0.000000e+00,\n",
       "        0.000000e+00, 0.000000e+00, 0.000000e+00, 0.000000e+00,\n",
       "        0.000000e+00, 0.000000e+00, 0.000000e+00, 0.000000e+00,\n",
       "        0.000000e+00, 0.000000e+00, 0.000000e+00, 0.000000e+00,\n",
       "        0.000000e+00, 0.000000e+00, 0.000000e+00, 0.000000e+00,\n",
       "        0.000000e+00, 0.000000e+00, 0.000000e+00, 0.000000e+00,\n",
       "        0.000000e+00, 0.000000e+00, 0.000000e+00, 0.000000e+00,\n",
       "        0.000000e+00, 0.000000e+00, 0.000000e+00, 0.000000e+00,\n",
       "        0.000000e+00, 0.000000e+00, 0.000000e+00, 0.000000e+00,\n",
       "        0.000000e+00, 0.000000e+00, 0.000000e+00, 0.000000e+00,\n",
       "        0.000000e+00, 0.000000e+00, 0.000000e+00, 0.000000e+00,\n",
       "        0.000000e+00, 0.000000e+00, 0.000000e+00, 0.000000e+00,\n",
       "        0.000000e+00, 0.000000e+00, 0.000000e+00, 0.000000e+00,\n",
       "        0.000000e+00, 0.000000e+00, 0.000000e+00, 0.000000e+00,\n",
       "        0.000000e+00, 0.000000e+00, 0.000000e+00, 0.000000e+00,\n",
       "        0.000000e+00, 0.000000e+00, 0.000000e+00, 0.000000e+00,\n",
       "        0.000000e+00, 0.000000e+00, 0.000000e+00, 0.000000e+00,\n",
       "        0.000000e+00, 0.000000e+00, 0.000000e+00, 0.000000e+00,\n",
       "        0.000000e+00, 0.000000e+00, 0.000000e+00, 0.000000e+00,\n",
       "        0.000000e+00, 0.000000e+00, 0.000000e+00, 0.000000e+00,\n",
       "        0.000000e+00, 0.000000e+00, 0.000000e+00, 0.000000e+00,\n",
       "        0.000000e+00, 0.000000e+00, 0.000000e+00, 0.000000e+00,\n",
       "        0.000000e+00, 0.000000e+00, 0.000000e+00, 0.000000e+00,\n",
       "        0.000000e+00, 0.000000e+00, 0.000000e+00, 0.000000e+00,\n",
       "        0.000000e+00, 0.000000e+00, 0.000000e+00, 0.000000e+00,\n",
       "        0.000000e+00, 0.000000e+00, 0.000000e+00, 0.000000e+00,\n",
       "        0.000000e+00, 1.000000e+00, 0.000000e+00, 0.000000e+00,\n",
       "        0.000000e+00, 0.000000e+00, 0.000000e+00, 0.000000e+00,\n",
       "        0.000000e+00, 0.000000e+00, 0.000000e+00, 0.000000e+00,\n",
       "        0.000000e+00, 0.000000e+00, 0.000000e+00, 0.000000e+00,\n",
       "        0.000000e+00, 0.000000e+00, 0.000000e+00, 0.000000e+00,\n",
       "        0.000000e+00, 0.000000e+00, 0.000000e+00, 0.000000e+00,\n",
       "        0.000000e+00, 0.000000e+00, 0.000000e+00, 0.000000e+00,\n",
       "        0.000000e+00, 0.000000e+00, 0.000000e+00, 0.000000e+00,\n",
       "        0.000000e+00, 0.000000e+00, 0.000000e+00, 0.000000e+00,\n",
       "        0.000000e+00, 0.000000e+00, 0.000000e+00, 0.000000e+00,\n",
       "        0.000000e+00, 0.000000e+00, 0.000000e+00, 0.000000e+00,\n",
       "        0.000000e+00, 0.000000e+00, 0.000000e+00, 0.000000e+00,\n",
       "        0.000000e+00, 0.000000e+00, 0.000000e+00, 0.000000e+00,\n",
       "        0.000000e+00, 0.000000e+00, 0.000000e+00, 0.000000e+00,\n",
       "        0.000000e+00, 0.000000e+00, 0.000000e+00, 0.000000e+00,\n",
       "        0.000000e+00, 0.000000e+00, 0.000000e+00, 0.000000e+00,\n",
       "        0.000000e+00, 0.000000e+00, 0.000000e+00, 0.000000e+00,\n",
       "        0.000000e+00, 0.000000e+00, 0.000000e+00, 0.000000e+00,\n",
       "        0.000000e+00, 0.000000e+00, 0.000000e+00, 0.000000e+00,\n",
       "        0.000000e+00, 0.000000e+00, 0.000000e+00, 0.000000e+00,\n",
       "        0.000000e+00, 0.000000e+00, 0.000000e+00, 0.000000e+00,\n",
       "        0.000000e+00, 0.000000e+00, 0.000000e+00, 0.000000e+00,\n",
       "        0.000000e+00, 0.000000e+00, 0.000000e+00, 0.000000e+00,\n",
       "        0.000000e+00, 0.000000e+00, 0.000000e+00, 0.000000e+00,\n",
       "        0.000000e+00, 0.000000e+00, 0.000000e+00, 0.000000e+00,\n",
       "        0.000000e+00, 0.000000e+00, 0.000000e+00, 0.000000e+00,\n",
       "        0.000000e+00, 0.000000e+00, 0.000000e+00, 0.000000e+00,\n",
       "        0.000000e+00, 0.000000e+00, 0.000000e+00, 0.000000e+00,\n",
       "        0.000000e+00, 0.000000e+00, 0.000000e+00, 0.000000e+00,\n",
       "        0.000000e+00, 0.000000e+00, 0.000000e+00, 0.000000e+00,\n",
       "        0.000000e+00, 0.000000e+00, 0.000000e+00, 0.000000e+00,\n",
       "        0.000000e+00, 0.000000e+00, 0.000000e+00, 0.000000e+00,\n",
       "        0.000000e+00, 0.000000e+00, 0.000000e+00, 0.000000e+00,\n",
       "        0.000000e+00, 0.000000e+00, 0.000000e+00, 0.000000e+00,\n",
       "        0.000000e+00, 0.000000e+00, 0.000000e+00, 0.000000e+00,\n",
       "        0.000000e+00, 0.000000e+00, 0.000000e+00, 0.000000e+00,\n",
       "        0.000000e+00, 0.000000e+00, 0.000000e+00, 0.000000e+00,\n",
       "        0.000000e+00, 0.000000e+00, 0.000000e+00, 0.000000e+00,\n",
       "        0.000000e+00, 0.000000e+00, 0.000000e+00, 0.000000e+00,\n",
       "        0.000000e+00, 0.000000e+00, 0.000000e+00, 0.000000e+00,\n",
       "        0.000000e+00, 0.000000e+00, 0.000000e+00, 0.000000e+00,\n",
       "        0.000000e+00, 0.000000e+00, 0.000000e+00, 0.000000e+00,\n",
       "        0.000000e+00, 0.000000e+00, 0.000000e+00, 0.000000e+00,\n",
       "        0.000000e+00, 0.000000e+00, 0.000000e+00, 0.000000e+00,\n",
       "        0.000000e+00, 0.000000e+00, 0.000000e+00, 0.000000e+00,\n",
       "        0.000000e+00, 0.000000e+00, 0.000000e+00, 0.000000e+00,\n",
       "        0.000000e+00, 0.000000e+00, 0.000000e+00, 0.000000e+00,\n",
       "        0.000000e+00, 0.000000e+00, 0.000000e+00, 0.000000e+00,\n",
       "        0.000000e+00, 0.000000e+00, 0.000000e+00, 0.000000e+00,\n",
       "        0.000000e+00, 0.000000e+00, 0.000000e+00, 0.000000e+00,\n",
       "        0.000000e+00, 0.000000e+00, 0.000000e+00, 0.000000e+00,\n",
       "        0.000000e+00, 0.000000e+00, 0.000000e+00, 0.000000e+00,\n",
       "        0.000000e+00, 0.000000e+00, 0.000000e+00, 0.000000e+00,\n",
       "        0.000000e+00, 0.000000e+00, 0.000000e+00, 0.000000e+00,\n",
       "        0.000000e+00, 0.000000e+00, 0.000000e+00, 0.000000e+00,\n",
       "        0.000000e+00, 0.000000e+00, 0.000000e+00, 0.000000e+00,\n",
       "        0.000000e+00, 0.000000e+00, 0.000000e+00, 0.000000e+00,\n",
       "        0.000000e+00, 0.000000e+00, 0.000000e+00, 0.000000e+00,\n",
       "        0.000000e+00, 0.000000e+00, 0.000000e+00, 0.000000e+00,\n",
       "        0.000000e+00, 0.000000e+00, 0.000000e+00, 0.000000e+00,\n",
       "        0.000000e+00, 0.000000e+00, 0.000000e+00, 0.000000e+00,\n",
       "        0.000000e+00, 0.000000e+00, 0.000000e+00, 0.000000e+00,\n",
       "        0.000000e+00, 0.000000e+00, 0.000000e+00, 0.000000e+00,\n",
       "        0.000000e+00, 0.000000e+00, 0.000000e+00, 0.000000e+00,\n",
       "        0.000000e+00, 0.000000e+00, 0.000000e+00, 0.000000e+00,\n",
       "        0.000000e+00, 0.000000e+00, 0.000000e+00, 0.000000e+00,\n",
       "        0.000000e+00, 0.000000e+00, 0.000000e+00, 0.000000e+00,\n",
       "        0.000000e+00, 0.000000e+00, 0.000000e+00, 0.000000e+00,\n",
       "        0.000000e+00, 0.000000e+00, 0.000000e+00, 0.000000e+00,\n",
       "        0.000000e+00, 0.000000e+00, 0.000000e+00, 0.000000e+00,\n",
       "        0.000000e+00, 0.000000e+00, 0.000000e+00, 0.000000e+00,\n",
       "        0.000000e+00, 0.000000e+00, 0.000000e+00, 0.000000e+00,\n",
       "        0.000000e+00, 0.000000e+00, 0.000000e+00, 0.000000e+00,\n",
       "        0.000000e+00, 0.000000e+00, 0.000000e+00, 0.000000e+00,\n",
       "        0.000000e+00, 0.000000e+00, 0.000000e+00, 0.000000e+00,\n",
       "        0.000000e+00, 0.000000e+00, 0.000000e+00, 0.000000e+00,\n",
       "        0.000000e+00, 0.000000e+00, 0.000000e+00, 0.000000e+00,\n",
       "        0.000000e+00, 0.000000e+00, 0.000000e+00, 0.000000e+00,\n",
       "        0.000000e+00, 0.000000e+00, 0.000000e+00, 0.000000e+00,\n",
       "        0.000000e+00, 0.000000e+00, 0.000000e+00, 0.000000e+00,\n",
       "        0.000000e+00, 0.000000e+00, 0.000000e+00, 0.000000e+00,\n",
       "        0.000000e+00, 0.000000e+00, 0.000000e+00, 0.000000e+00,\n",
       "        0.000000e+00, 0.000000e+00, 0.000000e+00, 0.000000e+00,\n",
       "        0.000000e+00, 0.000000e+00, 0.000000e+00, 0.000000e+00,\n",
       "        0.000000e+00, 0.000000e+00, 0.000000e+00, 0.000000e+00,\n",
       "        0.000000e+00, 0.000000e+00, 0.000000e+00, 0.000000e+00,\n",
       "        0.000000e+00, 0.000000e+00, 0.000000e+00, 0.000000e+00,\n",
       "        0.000000e+00, 0.000000e+00, 0.000000e+00, 0.000000e+00,\n",
       "        0.000000e+00, 0.000000e+00, 0.000000e+00, 0.000000e+00,\n",
       "        0.000000e+00, 0.000000e+00, 0.000000e+00, 0.000000e+00,\n",
       "        0.000000e+00, 0.000000e+00, 0.000000e+00, 0.000000e+00,\n",
       "        0.000000e+00, 0.000000e+00, 0.000000e+00, 0.000000e+00,\n",
       "        0.000000e+00, 0.000000e+00, 0.000000e+00, 0.000000e+00,\n",
       "        0.000000e+00, 0.000000e+00, 0.000000e+00, 0.000000e+00,\n",
       "        0.000000e+00, 0.000000e+00, 0.000000e+00, 0.000000e+00,\n",
       "        0.000000e+00, 0.000000e+00, 0.000000e+00, 0.000000e+00,\n",
       "        0.000000e+00, 0.000000e+00, 0.000000e+00, 0.000000e+00,\n",
       "        0.000000e+00, 0.000000e+00, 1.000000e+00, 0.000000e+00,\n",
       "        0.000000e+00, 0.000000e+00, 0.000000e+00, 0.000000e+00,\n",
       "        0.000000e+00, 0.000000e+00, 0.000000e+00, 0.000000e+00,\n",
       "        0.000000e+00, 0.000000e+00, 0.000000e+00, 0.000000e+00,\n",
       "        0.000000e+00, 0.000000e+00, 0.000000e+00, 0.000000e+00,\n",
       "        0.000000e+00, 0.000000e+00, 0.000000e+00, 0.000000e+00,\n",
       "        0.000000e+00, 0.000000e+00, 0.000000e+00, 0.000000e+00,\n",
       "        0.000000e+00, 0.000000e+00, 0.000000e+00, 0.000000e+00,\n",
       "        0.000000e+00, 0.000000e+00, 0.000000e+00, 0.000000e+00,\n",
       "        0.000000e+00, 0.000000e+00, 0.000000e+00, 0.000000e+00,\n",
       "        0.000000e+00, 0.000000e+00, 0.000000e+00, 0.000000e+00,\n",
       "        0.000000e+00, 0.000000e+00, 0.000000e+00, 0.000000e+00,\n",
       "        0.000000e+00, 0.000000e+00, 0.000000e+00, 0.000000e+00,\n",
       "        0.000000e+00, 0.000000e+00, 0.000000e+00, 0.000000e+00,\n",
       "        0.000000e+00, 0.000000e+00, 0.000000e+00, 0.000000e+00,\n",
       "        0.000000e+00, 0.000000e+00, 0.000000e+00, 0.000000e+00,\n",
       "        0.000000e+00, 0.000000e+00, 0.000000e+00, 0.000000e+00,\n",
       "        0.000000e+00, 0.000000e+00, 0.000000e+00, 0.000000e+00,\n",
       "        0.000000e+00, 0.000000e+00, 0.000000e+00, 0.000000e+00,\n",
       "        0.000000e+00, 0.000000e+00, 0.000000e+00, 0.000000e+00,\n",
       "        0.000000e+00, 0.000000e+00, 0.000000e+00, 0.000000e+00,\n",
       "        0.000000e+00, 0.000000e+00, 0.000000e+00, 0.000000e+00,\n",
       "        0.000000e+00, 0.000000e+00, 0.000000e+00, 0.000000e+00,\n",
       "        0.000000e+00, 0.000000e+00, 0.000000e+00, 0.000000e+00,\n",
       "        1.000000e+00, 0.000000e+00, 0.000000e+00, 0.000000e+00,\n",
       "        0.000000e+00, 0.000000e+00, 0.000000e+00, 0.000000e+00,\n",
       "        0.000000e+00, 0.000000e+00, 0.000000e+00, 0.000000e+00,\n",
       "        0.000000e+00, 0.000000e+00, 0.000000e+00, 0.000000e+00,\n",
       "        0.000000e+00, 0.000000e+00, 0.000000e+00, 0.000000e+00,\n",
       "        0.000000e+00, 0.000000e+00, 0.000000e+00, 0.000000e+00,\n",
       "        0.000000e+00, 0.000000e+00, 0.000000e+00, 0.000000e+00,\n",
       "        0.000000e+00, 0.000000e+00, 0.000000e+00, 0.000000e+00,\n",
       "        0.000000e+00, 0.000000e+00, 0.000000e+00, 0.000000e+00,\n",
       "        0.000000e+00, 0.000000e+00, 0.000000e+00, 0.000000e+00,\n",
       "        0.000000e+00, 0.000000e+00, 0.000000e+00, 0.000000e+00,\n",
       "        0.000000e+00, 0.000000e+00, 0.000000e+00, 0.000000e+00,\n",
       "        0.000000e+00, 0.000000e+00, 0.000000e+00, 0.000000e+00,\n",
       "        0.000000e+00, 0.000000e+00, 0.000000e+00, 0.000000e+00,\n",
       "        0.000000e+00, 0.000000e+00, 0.000000e+00, 0.000000e+00,\n",
       "        0.000000e+00, 0.000000e+00, 0.000000e+00, 0.000000e+00,\n",
       "        0.000000e+00, 0.000000e+00, 0.000000e+00, 0.000000e+00,\n",
       "        0.000000e+00, 0.000000e+00, 0.000000e+00, 0.000000e+00,\n",
       "        0.000000e+00, 0.000000e+00, 0.000000e+00, 0.000000e+00,\n",
       "        0.000000e+00, 0.000000e+00, 0.000000e+00, 0.000000e+00,\n",
       "        0.000000e+00, 0.000000e+00, 0.000000e+00, 0.000000e+00,\n",
       "        0.000000e+00, 0.000000e+00, 0.000000e+00, 0.000000e+00,\n",
       "        0.000000e+00, 0.000000e+00, 0.000000e+00, 0.000000e+00,\n",
       "        0.000000e+00, 0.000000e+00, 0.000000e+00, 0.000000e+00,\n",
       "        0.000000e+00, 0.000000e+00, 0.000000e+00, 0.000000e+00,\n",
       "        0.000000e+00, 0.000000e+00, 0.000000e+00, 0.000000e+00,\n",
       "        0.000000e+00, 0.000000e+00, 0.000000e+00, 0.000000e+00,\n",
       "        0.000000e+00, 0.000000e+00, 0.000000e+00, 0.000000e+00,\n",
       "        0.000000e+00, 0.000000e+00, 0.000000e+00, 0.000000e+00,\n",
       "        0.000000e+00, 0.000000e+00, 0.000000e+00, 0.000000e+00,\n",
       "        0.000000e+00, 0.000000e+00, 0.000000e+00, 0.000000e+00,\n",
       "        0.000000e+00, 0.000000e+00, 0.000000e+00, 0.000000e+00,\n",
       "        0.000000e+00, 0.000000e+00, 0.000000e+00, 0.000000e+00,\n",
       "        0.000000e+00, 0.000000e+00, 0.000000e+00, 0.000000e+00,\n",
       "        0.000000e+00, 0.000000e+00, 0.000000e+00, 0.000000e+00,\n",
       "        0.000000e+00, 0.000000e+00, 0.000000e+00, 0.000000e+00,\n",
       "        0.000000e+00, 0.000000e+00, 0.000000e+00, 0.000000e+00,\n",
       "        0.000000e+00, 0.000000e+00, 0.000000e+00, 0.000000e+00,\n",
       "        0.000000e+00, 0.000000e+00, 0.000000e+00, 0.000000e+00,\n",
       "        0.000000e+00, 0.000000e+00, 0.000000e+00, 0.000000e+00,\n",
       "        0.000000e+00, 0.000000e+00, 0.000000e+00, 0.000000e+00,\n",
       "        0.000000e+00, 0.000000e+00, 0.000000e+00, 0.000000e+00,\n",
       "        0.000000e+00, 0.000000e+00, 0.000000e+00, 0.000000e+00,\n",
       "        0.000000e+00, 0.000000e+00, 0.000000e+00, 0.000000e+00,\n",
       "        0.000000e+00, 0.000000e+00, 0.000000e+00, 0.000000e+00,\n",
       "        0.000000e+00, 0.000000e+00, 0.000000e+00, 0.000000e+00,\n",
       "        0.000000e+00, 0.000000e+00, 0.000000e+00, 0.000000e+00,\n",
       "        0.000000e+00, 0.000000e+00, 0.000000e+00, 0.000000e+00,\n",
       "        0.000000e+00, 0.000000e+00, 0.000000e+00, 0.000000e+00,\n",
       "        0.000000e+00, 0.000000e+00, 0.000000e+00, 0.000000e+00,\n",
       "        0.000000e+00, 0.000000e+00, 0.000000e+00, 0.000000e+00,\n",
       "        0.000000e+00, 0.000000e+00, 0.000000e+00, 0.000000e+00,\n",
       "        0.000000e+00, 0.000000e+00, 0.000000e+00, 0.000000e+00,\n",
       "        0.000000e+00, 0.000000e+00, 0.000000e+00, 0.000000e+00,\n",
       "        0.000000e+00, 0.000000e+00, 0.000000e+00, 0.000000e+00,\n",
       "        0.000000e+00, 0.000000e+00, 0.000000e+00, 0.000000e+00,\n",
       "        0.000000e+00, 0.000000e+00, 0.000000e+00, 0.000000e+00,\n",
       "        0.000000e+00, 0.000000e+00, 0.000000e+00, 0.000000e+00,\n",
       "        0.000000e+00, 0.000000e+00, 0.000000e+00, 0.000000e+00,\n",
       "        0.000000e+00, 0.000000e+00, 0.000000e+00, 0.000000e+00,\n",
       "        0.000000e+00, 0.000000e+00, 0.000000e+00, 0.000000e+00,\n",
       "        0.000000e+00, 0.000000e+00, 0.000000e+00, 0.000000e+00,\n",
       "        0.000000e+00, 0.000000e+00, 0.000000e+00, 0.000000e+00,\n",
       "        0.000000e+00, 0.000000e+00, 0.000000e+00, 1.000000e+00]),\n",
       " array([   0.   ,    2.228,    4.456, ..., 2223.544, 2225.772, 2228.   ]),\n",
       " <BarContainer object of 1000 artists>)"
      ]
     },
     "execution_count": 12,
     "metadata": {},
     "output_type": "execute_result"
    },
    {
     "data": {
      "image/png": "[encoded data removed]",
      "text/plain": [
       "<Figure size 432x288 with 1 Axes>"
      ]
     },
     "metadata": {
      "needs_background": "light"
     },
     "output_type": "display_data"
    }
   ],
   "source": [
    "# check length of the words\n",
    "\n",
    "word_lengths = []\n",
    "for instance in data_['train']:\n",
    "    for word in instance['words']:\n",
    "        word_lengths.append(len(word))\n",
    "\n",
    "\n",
    "plt.figure()\n",
    "plt.hist(word_lengths, bins=1000)"
   ]
  },
  {
   "cell_type": "code",
   "execution_count": 13,
   "id": "80878efc-47db-42c5-b2f6-296cc86d703e",
   "metadata": {},
   "outputs": [],
   "source": [
    "sorted_word_lengths = sorted(word_lengths, reverse=False)\n",
    "sorted_word_lengths[-10:]\n",
    "\n",
    "\n",
    "\n",
    "w_len_dict = {}\n",
    "for instance in data_['train']:\n",
    "    for word in instance['words']:\n",
    "        len_ = len(word)\n",
    "        if not len_ in w_len_dict:\n",
    "            w_len_dict[len_] = [word]\n",
    "        else:\n",
    "            w_len_dict[len_].append(word)\n",
    "\n"
   ]
  },
  {
   "cell_type": "code",
   "execution_count": 14,
   "id": "ddffd2f9-e184-4638-90e3-1eb9d1f31ba4",
   "metadata": {},
   "outputs": [
    {
     "data": {
      "text/plain": [
       "['========================================',\n",
       " 'cough/sob/cp/orthopnea/pnd/fever/chills.',\n",
       " 'dysuria/hematuria/diarrhea/melana/BRBPR.',\n",
       " 'Lives in [**Location 2268**] by herself.',\n",
       " '========================================',\n",
       " 'x3(Lima-LAD/SVG->OM/PDA)-[**2121-2-14**]',\n",
       " '**]-bos-bor;<br>glucosam-chondroitin-vit',\n",
       " '**]-bos-bor;<br>glucosam-chondroitin-vit',\n",
       " '========================================',\n",
       " '========================================',\n",
       " '========================================',\n",
       " '========================================',\n",
       " '========================================',\n",
       " '========================================',\n",
       " '========================================']"
      ]
     },
     "execution_count": 14,
     "metadata": {},
     "output_type": "execute_result"
    }
   ],
   "source": [
    "#\n",
    "unique_len = sorted(w_len_dict.keys())\n",
    "\n",
    "w_len_dict[40]"
   ]
  },
  {
   "cell_type": "code",
   "execution_count": 15,
   "id": "dbd6f679-c77a-4c3e-bc59-463578dfbb49",
   "metadata": {},
   "outputs": [
    {
     "data": {
      "text/plain": [
       "dict_keys(['words', 'labels_sbdh', 'labels_umls', 'id'])"
      ]
     },
     "execution_count": 15,
     "metadata": {},
     "output_type": "execute_result"
    }
   ],
   "source": [
    "sbdh_dist\n",
    "\n",
    "data_['train'][0].keys()"
   ]
  },
  {
   "cell_type": "code",
   "execution_count": 16,
   "id": "c0f8688c-f118-4501-abbc-5f1cfbe2a8e8",
   "metadata": {},
   "outputs": [],
   "source": [
    "# data tokenization\n",
    "from transformers import AutoTokenizer, PreTrainedTokenizer\n",
    "\n",
    "# \n",
    "model_name = 'bert-base-uncased'\n",
    "\n",
    "# define tokenizer\n",
    "tokenizer = AutoTokenizer.from_pretrained(model_name)"
   ]
  },
  {
   "cell_type": "code",
   "execution_count": 17,
   "id": "f4a2ad4d-78b3-41b7-be79-2143856eebef",
   "metadata": {},
   "outputs": [],
   "source": [
    "def extend_label(tokens, label):\n",
    "    label = str(label)\n",
    "    \n",
    "    if len(tokens) >= 2:\n",
    "        if label != 'O':\n",
    "            label_b = label + '_B'\n",
    "            label_i = label + '_I'\n",
    "            labels = [label_b] + [label_i] * (len(tokens)-1)            \n",
    "        else:\n",
    "            labels = ['O'] * len(tokens)\n",
    "    elif len(tokens) == 1:\n",
    "        labels = [label]\n",
    "    elif len(tokens) == 0:\n",
    "        labels = []\n",
    "    \n",
    "    #\n",
    "    if not len(tokens) == len(labels):\n",
    "        print(tokens)\n",
    "        print(labels)\n",
    "    \n",
    "    return labels"
   ]
  },
  {
   "cell_type": "code",
   "execution_count": 18,
   "id": "c91bd6aa-5864-4763-a3c4-e3e85dcc7360",
   "metadata": {},
   "outputs": [],
   "source": [
    "def separation_string(char_, length):\n",
    "    \n",
    "    list_ = [char_] * length\n",
    "    str_ = ''.join(list_)\n",
    "    \n",
    "    return str_\n",
    "\n",
    "def is_ignore(w):\n",
    "    \n",
    "    #\n",
    "    if len(w) > 40:\n",
    "        return True\n",
    "    \n",
    "    if len(w) > 10:\n",
    "        special_chars = ['.', '=', '-', '_', ',']\n",
    "        for schar in special_chars:\n",
    "            if w == separation_string(schar, len(w)):\n",
    "                return True\n",
    "    \n",
    "    return False"
   ]
  },
  {
   "cell_type": "code",
   "execution_count": 19,
   "id": "320901ed-4edd-425e-b0ed-e30fa2c5f9d8",
   "metadata": {},
   "outputs": [
    {
     "name": "stderr",
     "output_type": "stream",
     "text": [
      "100%|█████████████████████████████████| 869876/869876 [08:37<00:00, 1681.20it/s]\n"
     ]
    }
   ],
   "source": [
    "\n",
    "\n",
    "#\n",
    "data_tok = {}\n",
    "problematic_words = []\n",
    "ignored_examples = []\n",
    "selected_examples = []\n",
    "for subset in data_:\n",
    "    data_tok[subset] = []\n",
    "    \n",
    "    for example in tqdm(data_[subset]):\n",
    "        x_ = []\n",
    "        y_sbdh = []\n",
    "        y_umls = []\n",
    "        append_ = True\n",
    "        for idx, word in enumerate(example['words']):\n",
    "            ignore_word = is_ignore(word)\n",
    "            \n",
    "            if not ignore_word:\n",
    "                tokens = tokenizer.tokenize(word)\n",
    "\n",
    "                #if (len(tokens) >= 10) and (example['labels_sbdh'][idx] == 'O'):\n",
    "                #    continue\n",
    "\n",
    "                if (len(tokens) >= 30) and (example['labels_sbdh'][idx] != 'O'):\n",
    "                    problematic_words.append(example)\n",
    "\n",
    "\n",
    "                bio_sbdh = extend_label(tokens, example['labels_sbdh'][idx])\n",
    "                bio_umls = extend_label(tokens, example['labels_umls'][idx])\n",
    "\n",
    "                #\n",
    "                x_ += tokens\n",
    "                y_sbdh += bio_sbdh\n",
    "                y_umls += bio_umls\n",
    "            \n",
    "            else:\n",
    "                append_ = False\n",
    "                ignored_examples.append(example)\n",
    "                break\n",
    "    \n",
    "        #\n",
    "        if append_:\n",
    "            selected_examples.append(example)\n",
    "            tokenized_instance = {\n",
    "                'tokens': x_,\n",
    "                'labels_sbdh': y_sbdh,\n",
    "                'labels_umls': y_umls\n",
    "            }\n",
    "            data_tok[subset].append(deepcopy(tokenized_instance))"
   ]
  },
  {
   "cell_type": "code",
   "execution_count": 20,
   "id": "68f7e525-dedd-4ede-8844-4f67e63e75e9",
   "metadata": {},
   "outputs": [
    {
     "name": "stdout",
     "output_type": "stream",
     "text": [
      "\n",
      "\n",
      "{'words': ['Contact:', 'Mother,', '[**Telephone/Fax', '(1)', '8064**].', 'PCP:', '....................', '.'], 'labels_sbdh': ['O', 'sdoh_community', 'O', 'O', 'O', 'O', 'O', 'O'], 'labels_umls': ['O', 'C0237094', 'O', 'O', 'O', 'O', 'O', 'O'], 'id': '1308'}\n",
      "\n",
      "\n",
      "{'words': [\"Retired.\\n\\n\\nFamily History:\\nNon-contributory\\n\\n\\nPhysical Exam:\\nPE on Admission:\\nVS: afebrile HR 70's BP: 140-170's / 60's RR: 16\\nGen: NAD, AOx3\\nNeck: Trachea midline, neck supple. Palpable carotid pulses\\nCVS: RRR, no M/R/G\\nPulm: no resp distress\\nAbd: S/ND/min TTP to deep palpation.  Pulsatile mass upper\\nabdomen consistent with known AAA\\nLE: no LLE edema, warm, lack of hair distal LE bilaterally\\nPulse:\\nRLE: Femoral palpable DP/PT: -/dop\\nLLE: Femoral palpable DP/PT: P/dop\\n\\n\\nPertinent Results:\\n[**2153-2-22**] 02:37AM BLOOD WBC-8.5 RBC-3.12* Hgb-8.8* Hct-28.8*\\nMCV-92 MCH-28.3 MCHC-30.7* RDW-14.9 Plt Ct-341\\n[**2153-1-27**] 07:00AM BLOOD WBC-9.7 RBC-3.78* Hgb-11.7* Hct-32.1*\\nMCV-85 MCH-31.1 MCHC-36.6*# RDW-12.0 Plt Ct-317\\n[**2153-2-22**] 02:37AM BLOOD PT-16.8* INR(PT)-1.6*\\n[**2153-1-27**] 07:00AM BLOOD PT-13.8* PTT-30.2 INR(PT)-1.3*\\n[**2153-2-22**] 02:37AM BLOOD Glucose-107* UreaN-31* Creat-0.7 Na-135\\nK-3.7 Cl-104 HCO3-24 AnGap-11\\n[**2153-1-27**] 07:00AM BLOOD Glucose-162* UreaN-13 Creat-1.0 Na-129*\\nK-4.7 Cl-94* HCO3-27 AnGap-13\\n[**2153-2-3**] 12:37PM BLOOD ALT-32 AST-77* LD(LDH)-314* AlkPhos-63\\nAmylase-56 TotBili-0.9\\n[**2153-1-28**] 03:01AM BLOOD ALT-22 AST-86* LD(LDH)-286* AlkPhos-27*\\nAmylase-13 TotBili-0.8\\n\\n\\n[**Hospital1 18**] ECHOCARDIOGRAPHY REPORT\\n\\n[**Known lastname 11695**], [**Known firstname 177**]       [**Hospital1 18**] [**Numeric Identifier 11696**] (Complete)\\nDone [**2153-2-5**] at 11:45:40 AM      FINAL\\nReferring Physician     [**Name9 (PRE) **] Information\\n[**Name9 (PRE) **], [**Known firstname 177**] C.\\n[**Hospital Unit Name 927**]\\n[**Location (un) 86**], [**Numeric Identifier 718**]  Status: Inpatient DOB: [**2074-7-14**]\\nAge (years): 78 M  Hgt (in): 74\\nBP (mm Hg): 119/64  Wgt (lb): 190\\nHR (bpm): 83  BSA (m2): 2.13 m2\\nIndication: Atrial fibrillation. Endocarditis. Mitral valve\\ndisease. Source of embolism.\\nICD-9 Codes: 424.90, 427.31, 424.0\\nTest Information\\nDate/Time: [**2153-2-5**] at 11:45    Interpret MD: [**Initials (NamePattern4) **] [**Last Name (NamePattern4) **]\\n[**Last Name (NamePattern1) **], MD\\nTest Type: TEE (Complete) Son[**Name (NI) 930**]:\\nDoppler: Full Doppler and color Doppler Test Location: West Echo\\nLab\\nContrast: None Tech Quality: Adequate\\nTape #: 2012W012-0:00\", 'Machine:', 'Vivid', 'i-3', 'Echocardiographic', 'Measurements', 'Results', 'Measurements', 'Normal', 'Range'], 'labels_sbdh': ['sdoh_economics', 'O', 'O', 'O', 'O', 'O', 'O', 'O', 'O', 'O'], 'labels_umls': [None, 'O', 'O', 'O', 'O', 'O', 'O', 'O', 'O', 'O'], 'id': '2194'}\n",
      "\n",
      "\n",
      "{'words': ['Wheelchair', 'bound', 'but', 'able', 'to', 'wheel', 'himself.', 'Lives\\nat [**Last Name (NamePattern1) 66721**]Nursing Home.', 'Tobacco:', 'None.', 'Alcohol:', 'None.'], 'labels_sbdh': ['O', 'O', 'O', 'O', 'O', 'O', 'O', 'sdoh_environment', 'behavior_tobacco', 'O', 'behavior_alcohol', 'O'], 'labels_umls': ['O', 'O', 'O', 'O', 'O', 'O', 'O', None, 'C2701271', 'O', 'C0202304', 'O'], 'id': '27201'}\n",
      "\n",
      "\n",
      "{'words': ['denies', 'smoking.\\n\\n\\nFamily History:\\nprominent for DM2\\n\\n\\nPhysical Exam:\\nVitals: T 98, BP 162/80, HR 72, R 18, 100% 2l\\nGen: well appearing, cooperative, NAD\\nHEENT: slight R exopthalmos, no scleral icterus, OP clear, MMM\\nNeck: no carotid or vertebral bruits.\\nCV- irregularly irregular, 2/6 SEM at RUSB\\nPulm- CTA B\\nAbd- obese, soft, NT, ND, BS+\\nExtrem- R toe [**2-14**] amputation, distal pulses 1+ bilat.\\n\\nNEUROLOGIC EXAM: (with spanish interpretor)\\nMS- Alert, oriented to person, place time, attentive to\\nexamination. Speech is severely dysarthric. Naming of high and\\nlow frequency objects is intact. No visual neglect of NIHSS\\npicture.\\n\\nCN- L pupil 6mm and unreactive to direct light, constricts to\\n5mm\\nvia consensual response. R pupil 6mm reacts to 4mm directly. No\\nevidence for field cut. End-gaze nystagmus bilat, ? worse with\\nleft gaze. There is appearance of baseline ocular misalignment.\\nRight UMN facial droop. weakness of R eye closure. Sensation\\nsymmetric bilat. tongue protrudes in an irregular fashion. Able\\nto move bilaterally. Some debate about tongue being at midline.\\nSCM and Trap. full.\\n\\nMotor- R pronator drift, holds arms and legs antigravity x 10\\nseconds intially, upon re-examination, right arm was barely\\nantigravity.\\n\\nSensory- no loss of LT, PP.\\n\\nPlantar response, mute bilaterally.\\n\\nGait- unable to test.\\n\\n\\nPertinent Results:\\n[**2188-6-24**] 06:00PM   GLUCOSE-210* UREA N-34* CREAT-1.3* SODIUM-139\\nPOTASSIUM-4.7 CHLORIDE-104 TOTAL CO2-24', 'ANION', 'GAP-16', '[**2188-6-24**]', '06:00PM', 'WBC-11.6*', 'RBC-4.90', 'HGB-12.4*', 'HCT-38.2*', 'MCV-78*', 'MCH-25.3*', 'MCHC-32.4', 'RDW-19.7*', '[**2188-6-24**]', '06:00PM', 'NEUTS-86.8*', 'LYMPHS-10.0*', 'MONOS-1.6*', 'EOS-1.2', 'BASOS-0.5', '[**2188-6-24**]', '06:00PM', 'PT-16.4*', 'PTT-26.0', 'INR(PT)-1.5*', '[**2188-6-24**]', '06:00PM', 'cTropnT-<0.01', '[**2188-6-24**]', '11:25PM', 'URINE', 'bnzodzpn-NEG', 'barbitrt-NEG', 'opiates-NEG', 'cocaine-NEG', 'amphetmn-NEG', 'mthdone-NEG', '[**2188-6-24**]', '11:25PM', 'URINE', 'BLOOD-TR', 'NITRITE-NEG', 'PROTEIN-NEG', 'GLUCOSE-NEG', 'KETONE-NEG', 'BILIRUBIN-NEG', 'UROBILNGN-NEG', 'PH-5.0', 'LEUK-NEG'], 'labels_sbdh': ['O', 'behavior_tobacco', 'O', 'O', 'O', 'O', 'O', 'O', 'O', 'O', 'O', 'O', 'O', 'O', 'O', 'O', 'O', 'O', 'O', 'O', 'O', 'O', 'O', 'O', 'O', 'O', 'O', 'O', 'O', 'O', 'O', 'O', 'O', 'O', 'O', 'O', 'O', 'O', 'O', 'O', 'O', 'O', 'O', 'O', 'O', 'O', 'O', 'O', 'O', 'O'], 'labels_umls': ['O', None, 'O', 'O', 'O', 'O', 'O', 'O', 'O', 'O', 'O', 'O', 'O', 'O', 'O', 'O', 'O', 'O', 'O', 'O', 'O', 'O', 'O', 'O', 'O', 'O', 'O', 'O', 'O', 'O', 'O', 'O', 'O', 'O', 'O', 'O', 'O', 'O', 'O', 'O', 'O', 'O', 'O', 'O', 'O', 'O', 'O', 'O', 'O', 'O'], 'id': '36627'}\n",
      "\n",
      "\n",
      "{'words': ['Social', 'History:', '(+)Tobacco', '/(-)[ENT-1367-1371],(+)Employeed-[ENT-1385-1390]', 'at', 'a', 'machine', 'shop'], 'labels_sbdh': ['O', 'O', 'behavior_tobacco', 'O', 'O', 'O', 'O', 'O'], 'labels_umls': ['O', 'O', 'C2701271', 'O', 'O', 'O', 'O', 'O'], 'id': '40832'}\n",
      "\n",
      "\n",
      "{'words': ['Social', 'History:', 'Cigarettes:', '[', ']', 'never', '[x]', 'ex-smoker', '[', ']', 'current', 'Pack-yrs:____', 'quit:', '______', 'ETOH:', '[x]', 'No', '[', ']', 'Yes', 'drinks/day:', '_____', 'Drugs:', 'Exposure:', '[', ']', 'No', '[', ']', 'Yes', '[', ']', 'Radiation', '[', ']', 'Asbestos', '[', ']', 'Other:', 'Occupation:Retired', 'laborer', 'Marital', 'Status:', '[x]', 'Married', '[', ']', 'Single', 'Lives:', '[', ']', 'Alone', '[x]', 'w/', 'family', '[', ']', 'Other:', 'Other', 'pertinent', 'social', 'history:Very', 'active', 'Travel', 'history:none', '________________________________________________________________'], 'labels_sbdh': ['O', 'O', 'behavior_tobacco', 'O', 'O', 'O', 'O', 'behavior_tobacco', 'O', 'O', 'O', 'behavior_tobacco', 'O', 'O', 'behavior_alcohol', 'O', 'O', 'O', 'O', 'O', 'O', 'O', 'O', 'O', 'O', 'O', 'O', 'O', 'O', 'O', 'O', 'O', 'O', 'O', 'O', 'O', 'O', 'O', 'O', 'O', 'O', 'O', 'O', 'O', 'O', 'O', 'O', 'O', 'O', 'O', 'O', 'O', 'O', 'O', 'O', 'O', 'O', 'O', 'O', 'O', 'O', 'O', 'O', 'O', 'O', 'O'], 'labels_umls': ['O', 'O', None, 'O', 'O', 'O', 'O', None, 'O', 'O', 'O', None, 'O', 'O', None, 'O', 'O', 'O', 'O', 'O', 'O', 'O', 'O', 'O', 'O', 'O', 'O', 'O', 'O', 'O', 'O', 'O', 'O', 'O', 'O', 'O', 'O', 'O', 'O', 'O', 'O', 'O', 'O', 'O', 'O', 'O', 'O', 'O', 'O', 'O', 'O', 'O', 'O', 'O', 'O', 'O', 'O', 'O', 'O', 'O', 'O', 'O', 'O', 'O', 'O', 'O'], 'id': '41784'}\n",
      "\n",
      "\n",
      "{'words': ['stopped', '30', 'years', 'ago', 'non', 'drinker', 'no', 'recreational', 'drug use\\n\\n\\nFamily History:\\nfather:lung cancer died in this 70s from MI\\nno other history of malignancy\\n\\n\\nPhysical Exam:\\nP/E:\\ntmp: 98 bp 110/50; p 101; rr 22; saO2 95% on 1L O2\\nHEENT: normal\\nNeck: supple. supraclavicular LN negative\\nCVS: RRR, HS normal, no murmurs\\nRR: clear\\nNeruo: grossly normal\\nAbd: Soft, NT, ND\\nExt: no oedema\\nSkin: normal\\n\\n\\nPertinent Results:\\n[**2171-5-10**] 11:05AM   WBC-12.1* RBC-3.80* HGB-10.4* HCT-31.4*\\nMCV-83 MCH-27.3 MCHC-33.0 RDW-14.6\\n[**2171-5-10**] 11:05AM   GLUCOSE-101 UREA N-48* CREAT-1.7* SODIUM-138\\nPOTASSIUM-4.6 CHLORIDE-99 TOTAL CO2-26 ANION GAP-18\\n\\nBrief Hospital Course:\\nEGD was repeated on [**5-13**] and showed ulcer in the duodenal bulb\\nas well as duodenal stricture, causing gastric outlet\\nobstruction.\\nA PICC line was placed and she was started on TPN for\\nnutritional support.\\nExploratory laporatomy [**5-20**] revealed a gastric mass and obvious\\nperitoneal and liver studding. Biopsy of a mesenteric mass was\\npositive for adenocarcinoma.  Gastrojejunostomy and feeding\\njejunostomy were performed.\\nHer post operative course is summarized as follows:\\n1. Neuro: Her pain was well controlled initially with a PCA and\\nprior to DC with oral dilaudid.\\n2. CVS: As recommended by Cardiology prior to surgery, she was\\nstarted on beta-blockers that were continued postoperatively.\\nwith these, her BP and HR were well controlled.\\n3. Resp: On POD she developed significant dyspnea and wheezing.\\nworkup rued out any significant pulmonary process (CXR). PE\\n(neg. CTA) or cardiac event. she did not respond to nebulizers\\nor diuretics. Her saturations remained stable at all times.\\nBecause of her upper airway wheezes she was seen', 'by', 'the', 'ENT', 'service', 'and', 'on', 'laryngoscopy', 'was', 'found', 'to', 'have', 'reduced', 'left', 'vocal', 'cord', 'mobility', 'and', 'paradoxical', 'cord', 'movement.'], 'labels_sbdh': ['O', 'O', 'O', 'O', 'behavior_tobacco', 'behavior_alcohol', 'O', 'O', 'behavior_drug', 'O', 'O', 'O', 'O', 'O', 'O', 'O', 'O', 'O', 'O', 'O', 'O', 'O', 'O', 'O', 'O', 'O', 'O', 'O', 'O'], 'labels_umls': ['O', 'O', 'O', 'O', None, None, 'O', 'O', None, 'O', 'O', 'O', 'O', 'O', 'O', 'O', 'O', 'O', 'O', 'O', 'O', 'O', 'O', 'O', 'O', 'O', 'O', 'O', 'O'], 'id': '42944'}\n",
      "\n",
      "\n",
      "{'words': ['He', 'has', 'lived', 'in', 'a', 'group home', 'for', 'approximately', 'two', 'weeks', 'after', 'a', 'seven', 'year', 'hospitalization', 'in', 'the', '..............', 'Hospital.'], 'labels_sbdh': ['O', 'O', 'sdoh_environment', 'O', 'O', 'sdoh_environment', 'O', 'O', 'O', 'O', 'O', 'O', 'O', 'O', 'O', 'O', 'O', 'O', 'O'], 'labels_umls': ['O', 'O', 'C0332579', 'O', 'O', None, 'O', 'O', 'O', 'O', 'O', 'O', 'O', 'O', 'O', 'O', 'O', 'O', 'O'], 'id': '44675'}\n",
      "\n",
      "\n",
      "{'words': ['Social', 'History:', 'Lived', 'with', 'his', 'brother [**Name (NI) **]. Was a Polaroid technician.', 'Never', 'smoked', 'tobacco,', 'rare', 'EtOH', 'use.'], 'labels_sbdh': ['O', 'O', 'sdoh_environment', 'O', 'O', 'sdoh_community', 'O', 'O', 'behavior_tobacco', 'O', 'behavior_alcohol', 'O'], 'labels_umls': ['O', 'O', 'C0332579', 'O', 'O', None, 'O', 'O', None, 'O', 'C0001962', 'O'], 'id': '48525'}\n",
      "\n",
      "\n",
      "{'words': ['Social', 'History:', 'Lives alone; 24[**Hospital 8018**] nursing care', 'with', 'multiple', 'nurses;', 'fully', 'intact', 'ADLs;', 'ambulates', 'without', 'assistance;', 'never', 'married;', 'has', 'no'], 'labels_sbdh': ['O', 'O', 'sdoh_environment', 'O', 'O', 'O', 'O', 'O', 'O', 'O', 'O', 'O', 'O', 'sdoh_community', 'O', 'O'], 'labels_umls': ['O', 'O', None, 'O', 'O', 'O', 'O', 'O', 'O', 'O', 'O', 'O', 'O', None, 'O', 'O'], 'id': '49399'}\n",
      "\n",
      "\n",
      "{'words': ['Social', 'History:', 'smokes', '2', 'ppd', 'since', '16yo.', 'no', 'ETOH', 'lives', 'with', 'husband who manages everything in her life\\n\\n\\nPhysical Exam:\\nBP 140/64 P101 R20 92%RA\\nGen-pleasant but anxious, up in bed, very talkative,very thin\\nHEENT-anicteric, no conjunctival pallor, oral mucosa moist,\\nnasal cannula in place. neck supple, no LAD\\nCVS-nl S1/S2, no S3/S4/murmur, JVP 10cm, DP not palpable,\\n3+edema on LE up to thigh, 2+ pitting edema on upper extremities\\nresp-decreased breath sounds bilaterally, rales bilateral bases,\\nno wheezes,tracheal indrawing and occasional accessory muscle\\nuse, no intercostal indrawing or paradoxical movement\\nGI-nl BS, very thin abdomen,', 'no', 'tenderness,', 'no', 'HSM,', 'no', 'bruit,', 'no', 'pulsatile', 'mass', 'no', 'CVA', 'tenderness', 'neuro', 'A+O', 'x3,moves', 'all', '4', 'limbs', 'symmetrically,', 'PERRL,', 'EOMI,', 'CNII-XII', 'normal'], 'labels_sbdh': ['O', 'O', 'behavior_tobacco', 'O', 'behavior_tobacco', 'O', 'O', 'O', 'behavior_alcohol', 'sdoh_environment', 'O', 'sdoh_community', 'O', 'O', 'O', 'O', 'O', 'O', 'O', 'O', 'O', 'O', 'O', 'O', 'O', 'O', 'O', 'O', 'O', 'O', 'O', 'O', 'O', 'O', 'O'], 'labels_umls': ['O', 'O', None, 'O', None, 'O', 'O', 'O', None, 'C0595998', 'O', None, 'O', 'O', 'O', 'O', 'O', 'O', 'O', 'O', 'O', 'O', 'O', 'O', 'O', 'O', 'O', 'O', 'O', 'O', 'O', 'O', 'O', 'O', 'O'], 'id': '52601'}\n"
     ]
    },
    {
     "data": {
      "text/plain": [
       "11"
      ]
     },
     "execution_count": 20,
     "metadata": {},
     "output_type": "execute_result"
    }
   ],
   "source": [
    "ignored_pos = []\n",
    "for example in ignored_examples:\n",
    "    y_ = example['labels_sbdh']\n",
    "    if not y_ == ['O'] * len(y_):\n",
    "        print('\\n')\n",
    "        print(example)\n",
    "        ignored_pos.append(example)\n",
    "\n",
    "#\n",
    "len(ignored_pos)\n"
   ]
  },
  {
   "cell_type": "code",
   "execution_count": 21,
   "id": "bf6685a6-b4e7-4da2-a057-b6d3c2dd9364",
   "metadata": {},
   "outputs": [
    {
     "data": {
      "text/plain": [
       "868772"
      ]
     },
     "execution_count": 21,
     "metadata": {},
     "output_type": "execute_result"
    }
   ],
   "source": [
    "len(selected_examples)"
   ]
  },
  {
   "cell_type": "code",
   "execution_count": 22,
   "id": "204203b6-1e5c-47fe-becc-b08988f21cf1",
   "metadata": {},
   "outputs": [],
   "source": [
    "selected_pos, selected_neg = [], []\n",
    "for example in selected_examples:\n",
    "    y_ = example['labels_sbdh']\n",
    "    if y_ == ['O'] * len(y_):\n",
    "        selected_neg.append(example)\n",
    "    else:\n",
    "        selected_pos.append(example)"
   ]
  },
  {
   "cell_type": "code",
   "execution_count": 23,
   "id": "33e01417-7249-455e-b99e-0672e5d876aa",
   "metadata": {},
   "outputs": [
    {
     "name": "stdout",
     "output_type": "stream",
     "text": [
      "\n",
      "10th, 25th, 50th, 75th, 90th percentiles for positive examples:\n",
      "[ 5.  7. 12. 18. 26.]\n",
      "Mean value of length for positive sentences:\n",
      "13.9049634474798\n",
      "\n",
      "10th, 25th, 50th, 75th, 90th percentiles for neg examples:\n",
      "[ 3.  5. 10. 17. 27.]\n",
      "Mean value of length for negative sentences:\n",
      "13.489099379861809\n"
     ]
    }
   ],
   "source": [
    "pos_lengths, neg_lengths = [], []\n",
    "for pos_ in selected_pos:\n",
    "    pos_lengths.append(len(pos_['words']))\n",
    "\n",
    "for neg_ in selected_neg:\n",
    "    neg_lengths.append(len(neg_['words']))\n",
    "\n",
    "\n",
    "print('\\n10th, 25th, 50th, 75th, 90th percentiles for positive examples:')\n",
    "print(np.percentile(pos_lengths, (10, 25, 50, 75, 90)))\n",
    "print('Mean value of length for positive sentences:')\n",
    "print(np.mean(pos_lengths))\n",
    "\n",
    "print('\\n10th, 25th, 50th, 75th, 90th percentiles for neg examples:')\n",
    "print(np.percentile(neg_lengths, (10, 25, 50, 75, 90)))\n",
    "print('Mean value of length for negative sentences:')\n",
    "print(np.mean(neg_lengths))"
   ]
  },
  {
   "cell_type": "code",
   "execution_count": 24,
   "id": "20b16f58-b6c5-458b-8aeb-6f833e5742ab",
   "metadata": {},
   "outputs": [
    {
     "data": {
      "text/plain": [
       "([0, 1, 2, 3, 4, 5, 6, 7],\n",
       " [Text(0, 0, ''),\n",
       "  Text(0, 0, ''),\n",
       "  Text(0, 0, ''),\n",
       "  Text(0, 0, ''),\n",
       "  Text(0, 0, ''),\n",
       "  Text(0, 0, ''),\n",
       "  Text(0, 0, ''),\n",
       "  Text(0, 0, '')])"
      ]
     },
     "execution_count": 24,
     "metadata": {},
     "output_type": "execute_result"
    },
    {
     "data": {
      "image/png": "[encoded data removed]",
      "text/plain": [
       "<Figure size 432x288 with 1 Axes>"
      ]
     },
     "metadata": {
      "needs_background": "light"
     },
     "output_type": "display_data"
    }
   ],
   "source": [
    "for instance in selected_pos:\n",
    "    y_unique = set(instance['labels_sbdh'])\n",
    "    for y in y_unique:\n",
    "        if not y == 'O':\n",
    "            sbdh_dist[y] += 1\n",
    "\n",
    "#\n",
    "plt.figure()\n",
    "plt.bar(list(sbdh_dist.keys()), list(sbdh_dist.values()))\n",
    "plt.xticks(rotation = 90)\n",
    "\n",
    "# over sampling of\n",
    "# drug\n",
    "# economics\n",
    "# education"
   ]
  },
  {
   "cell_type": "code",
   "execution_count": 25,
   "id": "c18383dc-1e60-48b7-b1f1-5dc4e51efcba",
   "metadata": {},
   "outputs": [
    {
     "name": "stderr",
     "output_type": "stream",
     "text": [
      "100%|█████████████████████████████████| 12995/12995 [00:00<00:00, 647104.68it/s]\n"
     ]
    }
   ],
   "source": [
    "selected_pos_add = []\n",
    "for example in tqdm(selected_pos):\n",
    "    \n",
    "    if 'sdoh_education' in example['labels_sbdh']:\n",
    "        for i in range(20):\n",
    "            selected_pos_add.append(example)\n",
    "        continue\n",
    "    \n",
    "    if 'sdoh_economics' in example['labels_sbdh']:\n",
    "        for i in range(2):\n",
    "            selected_pos_add.append(example)\n",
    "        continue\n",
    "    \n",
    "    if 'behavior_drug' in example['labels_sbdh']:\n",
    "        for i in range(2):\n",
    "            selected_pos_add.append(example)\n",
    "        continue"
   ]
  },
  {
   "cell_type": "code",
   "execution_count": 26,
   "id": "37ab6cc9-b5d5-4c47-ac17-491b736a7950",
   "metadata": {},
   "outputs": [
    {
     "name": "stdout",
     "output_type": "stream",
     "text": [
      "<class 'list'>\n"
     ]
    }
   ],
   "source": [
    "selected_pos += selected_pos_add\n",
    "print(type(selected_pos))"
   ]
  },
  {
   "cell_type": "code",
   "execution_count": null,
   "id": "6920e647-bf1e-4910-bc07-4ab16fe80042",
   "metadata": {},
   "outputs": [],
   "source": []
  },
  {
   "cell_type": "code",
   "execution_count": 27,
   "id": "40cf2b69-9a0b-4d27-bc7e-461ee864386d",
   "metadata": {},
   "outputs": [
    {
     "data": {
      "text/plain": [
       "([0, 1, 2, 3, 4, 5, 6, 7],\n",
       " [Text(0, 0, ''),\n",
       "  Text(0, 0, ''),\n",
       "  Text(0, 0, ''),\n",
       "  Text(0, 0, ''),\n",
       "  Text(0, 0, ''),\n",
       "  Text(0, 0, ''),\n",
       "  Text(0, 0, ''),\n",
       "  Text(0, 0, '')])"
      ]
     },
     "execution_count": 27,
     "metadata": {},
     "output_type": "execute_result"
    },
    {
     "data": {
      "image/png": "[encoded data removed]",
      "text/plain": [
       "<Figure size 432x288 with 1 Axes>"
      ]
     },
     "metadata": {
      "needs_background": "light"
     },
     "output_type": "display_data"
    }
   ],
   "source": [
    "# adjusted data\n",
    "for instance in selected_pos:\n",
    "    y_unique = set(instance['labels_sbdh'])\n",
    "    for y in y_unique:\n",
    "        if not y == 'O':\n",
    "            sbdh_dist[y] += 1\n",
    "\n",
    "#\n",
    "plt.figure()\n",
    "plt.bar(list(sbdh_dist.keys()), list(sbdh_dist.values()))\n",
    "plt.xticks(rotation = 90)"
   ]
  },
  {
   "cell_type": "code",
   "execution_count": 28,
   "id": "14fb228f-9055-4370-870f-3ccc0fe011a8",
   "metadata": {},
   "outputs": [],
   "source": [
    "# sample equal amount of negative examples\n",
    "sampled_neg = list(np.random.choice(selected_neg, len(selected_pos)))\n"
   ]
  },
  {
   "cell_type": "code",
   "execution_count": 29,
   "id": "b3e52f42-69fb-4e56-ae50-37950a9b3128",
   "metadata": {},
   "outputs": [
    {
     "name": "stdout",
     "output_type": "stream",
     "text": [
      "\n",
      "10th, 25th, 50th, 75th, 90th percentiles for positive examples:\n",
      "[ 5.  8. 13. 20. 29.]\n",
      "Mean value of length for positive sentences:\n",
      "15.361140912285894\n",
      "\n",
      "10th, 25th, 50th, 75th, 90th percentiles for neg examples:\n",
      "[ 3.  5. 10. 16. 26.]\n",
      "Mean value of length for negative sentences:\n",
      "13.33420887129592\n"
     ]
    }
   ],
   "source": [
    "# check length distribution of both sets\n",
    "\n",
    "pos_lengths, neg_lengths = [], []\n",
    "for pos_ in selected_pos:\n",
    "    pos_lengths.append(len(pos_['words']))\n",
    "\n",
    "for neg_ in sampled_neg:\n",
    "    neg_lengths.append(len(neg_['words']))\n",
    "\n",
    "\n",
    "print('\\n10th, 25th, 50th, 75th, 90th percentiles for positive examples:')\n",
    "print(np.percentile(pos_lengths, (10, 25, 50, 75, 90)))\n",
    "print('Mean value of length for positive sentences:')\n",
    "print(np.mean(pos_lengths))\n",
    "\n",
    "print('\\n10th, 25th, 50th, 75th, 90th percentiles for neg examples:')\n",
    "print(np.percentile(neg_lengths, (10, 25, 50, 75, 90)))\n",
    "print('Mean value of length for negative sentences:')\n",
    "print(np.mean(neg_lengths))\n"
   ]
  },
  {
   "cell_type": "code",
   "execution_count": 30,
   "id": "9b9f0759-8c1f-4b77-acea-35b00f26a411",
   "metadata": {},
   "outputs": [],
   "source": [
    "# combine, suffle and save the data\n",
    "type(selected_pos)\n",
    "type(list(sampled_neg))\n",
    "\n",
    "data_save = selected_pos + sampled_neg"
   ]
  },
  {
   "cell_type": "code",
   "execution_count": 31,
   "id": "ec7be8b5-57a6-470a-a3f1-e05a21dfeeed",
   "metadata": {},
   "outputs": [],
   "source": [
    "from random import shuffle\n",
    "shuffle(data_save)"
   ]
  },
  {
   "cell_type": "code",
   "execution_count": 32,
   "id": "e30dcaae-d166-4355-bb0c-ca9838cb2746",
   "metadata": {},
   "outputs": [],
   "source": [
    "from sklearn.model_selection import train_test_split\n",
    "\n",
    "#\n",
    "X = []\n",
    "y = []\n",
    "for example in data_save:\n",
    "    X.append({'words': example['words']})\n",
    "    y.append({'labels_sbdh': example['labels_sbdh'], 'labels_umls': example['labels_umls']})\n",
    "\n",
    "# split into train and test\n",
    "X_train, X_test, y_train, y_test = train_test_split(X, y, test_size=0.2, random_state=1)\n",
    "\n",
    "# split the new train into train and val\n",
    "X_train, X_val, y_train, y_val = train_test_split(X_train, y_train, test_size=0.25, random_state=1)"
   ]
  },
  {
   "cell_type": "code",
   "execution_count": 33,
   "id": "ca8b0af7-7ab8-4a8e-aeda-b4a0d42ac41e",
   "metadata": {},
   "outputs": [],
   "source": [
    "\n",
    "data_final = {'train': [], 'validation': [], 'test': []}\n",
    "\n",
    "for idx, example in enumerate(X_train):\n",
    "    instance = {**example, **y_train[idx]}\n",
    "    data_final['train'].append(instance)\n",
    "\n",
    "for idx, example in enumerate(X_val):\n",
    "    instance = {**example, **y_val[idx]}\n",
    "    data_final['validation'].append(instance)\n",
    "\n",
    "for idx, example in enumerate(X_test):\n",
    "    instance = {**example, **y_test[idx]}\n",
    "    data_final['test'].append(instance)"
   ]
  },
  {
   "cell_type": "code",
   "execution_count": 34,
   "id": "6573b38a-3e14-47c7-9f40-16f65b764ad9",
   "metadata": {},
   "outputs": [
    {
     "name": "stdout",
     "output_type": "stream",
     "text": [
      "32436\n",
      "10813\n",
      "10813\n"
     ]
    }
   ],
   "source": [
    "print(len(data_final['train']))\n",
    "print(len(data_final['test']))\n",
    "print(len(data_final['validation']))"
   ]
  },
  {
   "cell_type": "code",
   "execution_count": 181,
   "id": "b97dd271-a462-443a-8501-c63df047c428",
   "metadata": {},
   "outputs": [],
   "source": [
    "# save data\n",
    "filepath = 'preprocessed_data_version_2.json'\n",
    "with open(filepath, 'w') as f:\n",
    "    json.dump(data_final, f, indent=4)"
   ]
  },
  {
   "cell_type": "code",
   "execution_count": null,
   "id": "10a8a33d-4519-4265-acdc-9d354def2219",
   "metadata": {},
   "outputs": [],
   "source": []
  }
 ],
 "metadata": {
  "kernelspec": {
   "display_name": "Python 3 (ipykernel)",
   "language": "python",
   "name": "python3"
  },
  "language_info": {
   "codemirror_mode": {
    "name": "ipython",
    "version": 3
   },
   "file_extension": ".py",
   "mimetype": "text/x-python",
   "name": "python",
   "nbconvert_exporter": "python",
   "pygments_lexer": "ipython3",
   "version": "3.7.11"
  }
 },
 "nbformat": 4,
 "nbformat_minor": 5
}
